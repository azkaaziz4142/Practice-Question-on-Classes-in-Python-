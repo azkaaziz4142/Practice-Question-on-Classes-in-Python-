{
 "cells": [
  {
   "cell_type": "code",
   "execution_count": 11,
   "id": "94e99b04",
   "metadata": {},
   "outputs": [
    {
     "name": "stdout",
     "output_type": "stream",
     "text": [
      "Name: John, Age: 30, City: New York\n"
     ]
    }
   ],
   "source": [
    "#Question 1\n",
    "class Person:\n",
    "    def __init__(self, name, age, city):\n",
    "        self.name = name\n",
    "        self.age = age\n",
    "        self.city = city\n",
    "    def __str__(self):\n",
    "        return f\"Name: {self.name}, Age: {self.age}, City: {self.city}\"\n",
    "person1 = Person(\"John\", 30, \"New York\")\n",
    "print(person1)\n"
   ]
  },
  {
   "cell_type": "code",
   "execution_count": 25,
   "id": "84ca8542",
   "metadata": {},
   "outputs": [
    {
     "name": "stdout",
     "output_type": "stream",
     "text": [
      "toyota\n",
      "corolla\n",
      "2022\n"
     ]
    }
   ],
   "source": [
    "#Question 2\n",
    "class car:\n",
    "    def __init__(self,make,model,year):\n",
    "         self.make=make\n",
    "         self.model=model\n",
    "         self.year=year\n",
    "car1=car('toyota','corolla',2022)\n",
    "print(car1.make)\n",
    "print(car1.model)\n",
    "print(car1.year)\n",
    "        "
   ]
  },
  {
   "cell_type": "code",
   "execution_count": 26,
   "id": "f4ed7b66",
   "metadata": {},
   "outputs": [
    {
     "name": "stdout",
     "output_type": "stream",
     "text": [
      "9\n",
      "254.46878999999998\n",
      "56.54862\n"
     ]
    }
   ],
   "source": [
    "#Question 3\n",
    "class circle:\n",
    "    def __init__(self,radius):\n",
    "        self.radius=radius\n",
    "        self.area= 3.14159 * (self.radius ** 2)  \n",
    "        self.circumference= 2 * 3.14159 * self.radius\n",
    "circle1=circle(9)\n",
    "print(circle1.radius)\n",
    "print(circle1.area)\n",
    "print(circle1.circumference)"
   ]
  },
  {
   "cell_type": "code",
   "execution_count": 31,
   "id": "7a005e0b",
   "metadata": {},
   "outputs": [
    {
     "name": "stdout",
     "output_type": "stream",
     "text": [
      "Rectangle with length: 5 and width: 3\n",
      "Area: 15\n",
      "Perimeter: 16\n"
     ]
    }
   ],
   "source": [
    "#Question 4\n",
    "class Rectangle:\n",
    "    def __init__(self, length, width):\n",
    "        self.length = length\n",
    "        self.width = width\n",
    "        self.area_value = self.length * self.width \n",
    "        self.perimeter_value = 2 * (self.length + self.width)  \n",
    "\n",
    "    def display(self):\n",
    "        print(f\"Rectangle with length: {self.length} and width: {self.width}\")\n",
    "        print(f\"Area: {self.area_value}\")\n",
    "        print(f\"Perimeter: {self.perimeter_value}\")\n",
    "\n",
    "rectangle1 = Rectangle(5, 3)\n",
    "\n",
    "rectangle1.display()\n"
   ]
  },
  {
   "cell_type": "code",
   "execution_count": 32,
   "id": "8bbdd7fa",
   "metadata": {},
   "outputs": [
    {
     "name": "stdout",
     "output_type": "stream",
     "text": [
      "Student Name: John Doe\n",
      "Roll Number: 12345\n",
      "Marks: [80, 90, 85, 70, 95]\n",
      "Average Marks: 84.00\n"
     ]
    }
   ],
   "source": [
    "#Question 5\n",
    "class Student:\n",
    "    def __init__(self, name, roll_number, marks):\n",
    "        self.name = name\n",
    "        self.roll_number = roll_number\n",
    "        self.marks = marks  \n",
    "        self.average_marks = sum(self.marks) / len(self.marks) if self.marks else 0\n",
    "\n",
    "    def display(self):\n",
    "        print(f\"Student Name: {self.name}\")\n",
    "        print(f\"Roll Number: {self.roll_number}\")\n",
    "        print(f\"Marks: {self.marks}\")\n",
    "        print(f\"Average Marks: {self.average_marks:.2f}\")\n",
    "student1 = Student(\"John Doe\", \"12345\", [80, 90, 85, 70, 95])\n",
    "student1.display()\n"
   ]
  },
  {
   "cell_type": "code",
   "execution_count": 33,
   "id": "87001d48",
   "metadata": {},
   "outputs": [
    {
     "name": "stdout",
     "output_type": "stream",
     "text": [
      "Book Title: To Kill a Mockingbird\n",
      "Author: Harper Lee\n",
      "Publication Year: 1960\n"
     ]
    }
   ],
   "source": [
    "#question 6\n",
    "class Book:\n",
    "    def __init__(self, title, author, publication_year):\n",
    "        self.title = title\n",
    "        self.author = author\n",
    "        self.publication_year = publication_year\n",
    "\n",
    "    def display(self):\n",
    "        print(f\"Book Title: {self.title}\")\n",
    "        print(f\"Author: {self.author}\")\n",
    "        print(f\"Publication Year: {self.publication_year}\")\n",
    "\n",
    "book1 = Book(\"To Kill a Mockingbird\", \"Harper Lee\", 1960)\n",
    "book1.display()\n"
   ]
  },
  {
   "cell_type": "code",
   "execution_count": 34,
   "id": "7aee3c99",
   "metadata": {},
   "outputs": [
    {
     "name": "stdout",
     "output_type": "stream",
     "text": [
      "Employee Name: John Doe\n",
      "Salary: 50000\n",
      "Designation: Software Engineer\n"
     ]
    }
   ],
   "source": [
    "#question 7\n",
    "class Employee:\n",
    "    def __init__(self, name, salary, designation):\n",
    "        self.name = name\n",
    "        self.salary = salary\n",
    "        self.designation = designation\n",
    "\n",
    "    def display(self):\n",
    "        print(f\"Employee Name: {self.name}\")\n",
    "        print(f\"Salary: {self.salary}\")\n",
    "        print(f\"Designation: {self.designation}\")\n",
    "employee1 = Employee(\"John Doe\", 50000, \"Software Engineer\")\n",
    "employee1.display()\n"
   ]
  },
  {
   "cell_type": "code",
   "execution_count": 35,
   "id": "4c8c9bc6",
   "metadata": {},
   "outputs": [
    {
     "name": "stdout",
     "output_type": "stream",
     "text": [
      "Account Holder: John Doe\n",
      "Account Number: 1234567890\n",
      "Current Balance: 500\n",
      "Deposited: 200. Current Balance: 700\n",
      "Withdrew: 100. Current Balance: 600\n",
      "Account Holder: John Doe\n",
      "Account Number: 1234567890\n",
      "Current Balance: 600\n"
     ]
    }
   ],
   "source": [
    "#question 8\n",
    "class Bank:\n",
    "    def __init__(self, name, account_number, balance=0):\n",
    "        self.name = name\n",
    "        self.account_number = account_number\n",
    "        self.balance = balance  \n",
    "\n",
    "    def deposit(self, amount):\n",
    "        if amount > 0:\n",
    "            self.balance += amount\n",
    "            print(f\"Deposited: {amount}. Current Balance: {self.balance}\")\n",
    "        else:\n",
    "            print(\"Deposit amount must be greater than 0.\")\n",
    "\n",
    "    def withdraw(self, amount):\n",
    "        if amount > 0:\n",
    "            if amount <= self.balance:\n",
    "                self.balance -= amount\n",
    "                print(f\"Withdrew: {amount}. Current Balance: {self.balance}\")\n",
    "            else:\n",
    "                print(\"Insufficient funds.\")\n",
    "        else:\n",
    "            print(\"Withdraw amount must be greater than 0.\")\n",
    "\n",
    "    def display(self):\n",
    "        print(f\"Account Holder: {self.name}\")\n",
    "        print(f\"Account Number: {self.account_number}\")\n",
    "        print(f\"Current Balance: {self.balance}\")\n",
    "\n",
    "account1 = Bank(\"John Doe\", \"1234567890\", 500)\n",
    "account1.display()\n",
    "account1.deposit(200)\n",
    "account1.withdraw(100)\n",
    "account1.display()\n",
    "\n"
   ]
  },
  {
   "cell_type": "code",
   "execution_count": null,
   "id": "22e8da17",
   "metadata": {},
   "outputs": [],
   "source": []
  }
 ],
 "metadata": {
  "kernelspec": {
   "display_name": "Python 3 (ipykernel)",
   "language": "python",
   "name": "python3"
  },
  "language_info": {
   "codemirror_mode": {
    "name": "ipython",
    "version": 3
   },
   "file_extension": ".py",
   "mimetype": "text/x-python",
   "name": "python",
   "nbconvert_exporter": "python",
   "pygments_lexer": "ipython3",
   "version": "3.12.4"
  }
 },
 "nbformat": 4,
 "nbformat_minor": 5
}
